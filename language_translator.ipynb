{
  "cells": [
    {
      "cell_type": "markdown",
      "metadata": {
        "id": "view-in-github",
        "colab_type": "text"
      },
      "source": [
        "<a href=\"https://colab.research.google.com/github/Hirali04/Language-Translator/blob/main/language_translator.ipynb\" target=\"_parent\"><img src=\"https://colab.research.google.com/assets/colab-badge.svg\" alt=\"Open In Colab\"/></a>"
      ]
    },
    {
      "cell_type": "markdown",
      "metadata": {
        "id": "6nhmbawgjRZk"
      },
      "source": [
        "### Import Required Libraries"
      ]
    },
    {
      "cell_type": "code",
      "execution_count": 1,
      "metadata": {
        "id": "nsEX59QVjRZm"
      },
      "outputs": [],
      "source": [
        "import string\n",
        "import re\n",
        "from numpy import array, argmax, random, take\n",
        "import pandas as pd\n",
        "from keras.models import Sequential\n",
        "from keras.layers import Dense, LSTM, Embedding, Bidirectional, RepeatVector, TimeDistributed\n",
        "from keras.preprocessing.text import Tokenizer\n",
        "from keras.callbacks import ModelCheckpoint\n",
        "from keras.preprocessing.sequence import pad_sequences\n",
        "from keras.models import load_model\n",
        "from keras import optimizers\n",
        "import matplotlib.pyplot as plt\n",
        "import numpy as np\n",
        "# % matplotlib inline\n",
        "pd.set_option('display.max_colwidth', 200)"
      ]
    },
    {
      "cell_type": "markdown",
      "metadata": {
        "id": "yzSpLQZijRZo"
      },
      "source": [
        "### Read Data"
      ]
    },
    {
      "cell_type": "markdown",
      "metadata": {
        "id": "LsGgzDN9jRZo"
      },
      "source": [
        "Our data is a text file of English-German sentence pairs. First we will read the file using the function defined below."
      ]
    },
    {
      "cell_type": "code",
      "execution_count": 2,
      "metadata": {
        "id": "F4FgKUGyjRZo"
      },
      "outputs": [],
      "source": [
        "# function to read raw text file\n",
        "def read_text(filename):\n",
        "    # open the file\n",
        "    file = open(filename, mode='rt', encoding='utf-8')\n",
        "    # read all text\n",
        "    text = file.read()\n",
        "    file.close()\n",
        "    return text"
      ]
    },
    {
      "cell_type": "markdown",
      "metadata": {
        "id": "u50q_QZQjRZo"
      },
      "source": [
        "Now let's define a function to split the text into English-German pairs separated by '\\n' and then split these pairs into English sentences and German sentences."
      ]
    },
    {
      "cell_type": "code",
      "execution_count": 3,
      "metadata": {
        "id": "et7dYA4yjRZo"
      },
      "outputs": [],
      "source": [
        "# split a text into sentences\n",
        "def to_lines(text):\n",
        "    sents = text.strip().split('\\n')\n",
        "    sents = [i.split('\\t') for i in sents]\n",
        "    return sents"
      ]
    },
    {
      "cell_type": "code",
      "source": [
        "from google.colab import drive\n",
        "drive.mount('/content/gdrive')"
      ],
      "metadata": {
        "colab": {
          "base_uri": "https://localhost:8080/"
        },
        "id": "EoKQXCaSkZnV",
        "outputId": "e43aa3bf-f68a-427b-d8d0-44d1d8d98219"
      },
      "execution_count": 4,
      "outputs": [
        {
          "output_type": "stream",
          "name": "stdout",
          "text": [
            "Mounted at /content/gdrive\n"
          ]
        }
      ]
    },
    {
      "cell_type": "code",
      "execution_count": 5,
      "metadata": {
        "id": "Pf4oH0l-jRZp"
      },
      "outputs": [],
      "source": [
        "data = read_text(\"/content/gdrive/MyDrive/deu.txt\")\n",
        "deu_eng = to_lines(data)\n",
        "deu_eng = array(deu_eng)"
      ]
    },
    {
      "cell_type": "markdown",
      "metadata": {
        "id": "yZQsuGj_jRZq"
      },
      "source": [
        "### Text Pre-Processing"
      ]
    },
    {
      "cell_type": "markdown",
      "metadata": {
        "id": "v0BOrFIZjRZq"
      },
      "source": [
        "#### Text Cleaning\n"
      ]
    },
    {
      "cell_type": "code",
      "execution_count": 6,
      "metadata": {
        "scrolled": true,
        "colab": {
          "base_uri": "https://localhost:8080/"
        },
        "id": "ryITPg7GjRZq",
        "outputId": "8aca6000-dc74-4e5a-d3b0-477cce6132df"
      },
      "outputs": [
        {
          "output_type": "execute_result",
          "data": {
            "text/plain": [
              "array([['Go.', 'Geh.',\n",
              "        'CC-BY 2.0 (France) Attribution: tatoeba.org #2877272 (CM) & #8597805 (Roujin)'],\n",
              "       ['Hi.', 'Hallo!',\n",
              "        'CC-BY 2.0 (France) Attribution: tatoeba.org #538123 (CM) & #380701 (cburgmer)'],\n",
              "       ['Hi.', 'Grüß Gott!',\n",
              "        'CC-BY 2.0 (France) Attribution: tatoeba.org #538123 (CM) & #659813 (Esperantostern)'],\n",
              "       ...,\n",
              "       ['It may be impossible to get a completely error-free corpus due to the nature of this kind of collaborative effort. However, if we encourage members to contribute sentences in their own languages rather than experiment in languages they are learning, we might be able to minimize errors.',\n",
              "        'Es ist wohl unmöglich, einen vollkommen fehlerfreien Korpus zu erreichen\\xa0— das liegt in der Natur eines solchen Gemeinschaftsprojekts. Doch wenn wir unsere Mitglieder dazu bringen können, nicht mit Sprachen herumzuexperimentieren, die sie gerade lernen, sondern Sätze in ihrer eigenen Muttersprache beizutragen, dann gelingt es uns vielleicht, die Zahl der Fehler klein zu halten.',\n",
              "        'CC-BY 2.0 (France) Attribution: tatoeba.org #2024159 (CK) & #2174272 (Pfirsichbaeumchen)'],\n",
              "       [\"I know that adding sentences only in your native or strongest language is probably not as much fun as practicing writing foreign languages, but please don't add sentences to the Tatoeba Corpus if you are not absolutely sure they are correct. If you want to practice languages that you are studying, please do so by using a website designed for that purpose such as www.lang-8.com.\",\n",
              "        'Ich weiß wohl, dass das ausschließliche Beitragen von Sätzen in der Muttersprache\\xa0– oder der am besten beherrschten Sprache\\xa0– nicht ganz so viel Spaß macht, wie sich im Schreiben von Fremdsprachen zu üben; steuere beim Tatoeba-Korpus aber bitte trotzdem keine Sätze bei, über deren Korrektheit du dir nicht völlig im Klaren bist. Wenn du Sprachen, die du gerade lernst, üben möchtest, verwende dazu bitte Netzangebote, die eigens hierfür eingerichtet wurden, wie zum Beispiel www.lang-8.com.',\n",
              "        'CC-BY 2.0 (France) Attribution: tatoeba.org #3847634 (CM) & #4878147 (Pfirsichbaeumchen)'],\n",
              "       ['Doubtless there exists in this world precisely the right woman for any given man to marry and vice versa; but when you consider that a human being has the opportunity of being acquainted with only a few hundred people, and out of the few hundred that there are but a dozen or less whom he knows intimately, and out of the dozen, one or two friends at most, it will easily be seen, when we remember the number of millions who inhabit this world, that probably, since the earth was created, the right man has never yet met the right woman.',\n",
              "        'Ohne Zweifel findet sich auf dieser Welt zu jedem Mann genau die richtige Ehefrau und umgekehrt; wenn man jedoch in Betracht zieht, dass ein Mensch nur Gelegenheit hat, mit ein paar hundert anderen bekannt zu sein, von denen ihm nur ein Dutzend oder weniger nahesteht, darunter höchstens ein oder zwei Freunde, dann erahnt man eingedenk der Millionen Einwohner dieser Welt\\xa0leicht, dass seit Erschaffung ebenderselben wohl noch nie der richtige Mann der richtigen Frau begegnet ist.',\n",
              "        'CC-BY 2.0 (France) Attribution: tatoeba.org #7697649 (RM) & #7729416 (Pfirsichbaeumchen)']],\n",
              "      dtype='<U537')"
            ]
          },
          "metadata": {},
          "execution_count": 6
        }
      ],
      "source": [
        "deu_eng"
      ]
    },
    {
      "cell_type": "code",
      "source": [
        "def remove_attribution(line):\n",
        "    parts = line.split('CC-BY')\n",
        "    cleaned_line = parts[0].strip()\n",
        "    return cleaned_line if cleaned_line else None\n",
        "\n",
        "# Apply the function to each line in the array\n",
        "deu_eng = np.array([[remove_attribution(line) for line in entry] for entry in deu_eng])\n",
        "\n",
        "# Remove the last empty string from each array\n",
        "deu_eng = np.array([list(filter(None, entry)) for entry in deu_eng])\n",
        "\n",
        "print(deu_eng)"
      ],
      "metadata": {
        "colab": {
          "base_uri": "https://localhost:8080/"
        },
        "id": "aNFJT2xMlnue",
        "outputId": "44529dd4-4d42-47cf-a8ed-f0bd1264564c"
      },
      "execution_count": 11,
      "outputs": [
        {
          "output_type": "stream",
          "name": "stdout",
          "text": [
            "[['go' 'geh']\n",
            " ['hi' 'hallo']\n",
            " ['hi' 'grüß gott']\n",
            " ...\n",
            " ['it may be impossible to get a completely errorfree corpus due to the nature of this kind of collaborative effort however if we encourage members to contribute sentences in their own languages rather than experiment in languages they are learning we might be able to minimize errors'\n",
            "  'es ist wohl unmöglich einen vollkommen fehlerfreien korpus zu erreichen\\xa0— das liegt in der natur eines solchen gemeinschaftsprojekts doch wenn wir unsere mitglieder dazu bringen können nicht mit sprachen herumzuexperimentieren die sie gerade lernen sondern sätze in ihrer eigenen muttersprache beizutragen dann gelingt es uns vielleicht die zahl der fehler klein zu halten']\n",
            " ['i know that adding sentences only in your native or strongest language is probably not as much fun as practicing writing foreign languages but please dont add sentences to the tatoeba corpus if you are not absolutely sure they are correct if you want to practice languages that you are studying please do so by using a website designed for that purpose such as wwwlang8com'\n",
            "  'ich weiß wohl dass das ausschließliche beitragen von sätzen in der muttersprache\\xa0– oder der am besten beherrschten sprache\\xa0– nicht ganz so viel spaß macht wie sich im schreiben von fremdsprachen zu üben steuere beim tatoebakorpus aber bitte trotzdem keine sätze bei über deren korrektheit du dir nicht völlig im klaren bist wenn du sprachen die du gerade lernst üben möchtest verwende dazu bitte netzangebote die eigens hierfür eingerichtet wurden wie zum beispiel wwwlang8com']\n",
            " ['doubtless there exists in this world precisely the right woman for any given man to marry and vice versa but when you consider that a human being has the opportunity of being acquainted with only a few hundred people and out of the few hundred that there are but a dozen or less whom he knows intimately and out of the dozen one or two friends at most it will easily be seen when we remember the number of millions who inhabit this world that probably since the earth was created the right man has never yet met the right woman'\n",
            "  'ohne zweifel findet sich auf dieser welt zu jedem mann genau die richtige ehefrau und umgekehrt wenn man jedoch in betracht zieht dass ein mensch nur gelegenheit hat mit ein paar hundert anderen bekannt zu sein von denen ihm nur ein dutzend oder weniger nahesteht darunter höchstens ein oder zwei freunde dann erahnt man eingedenk der millionen einwohner dieser welt\\xa0leicht dass seit erschaffung ebenderselben wohl noch nie der richtige mann der richtigen frau begegnet ist']]\n"
          ]
        }
      ]
    },
    {
      "cell_type": "markdown",
      "metadata": {
        "id": "j3Ecac-pjRZr"
      },
      "source": [
        "We will get rid of the punctuation marks, and then convert the text to lower case."
      ]
    },
    {
      "cell_type": "code",
      "execution_count": 12,
      "metadata": {
        "id": "GgYD6HCRjRZr"
      },
      "outputs": [],
      "source": [
        "# Remove punctuation\n",
        "deu_eng[:,0] = [s.translate(str.maketrans('', '', string.punctuation)) for s in deu_eng[:,0]]\n",
        "deu_eng[:,1] = [s.translate(str.maketrans('', '', string.punctuation)) for s in deu_eng[:,1]]"
      ]
    },
    {
      "cell_type": "code",
      "execution_count": 13,
      "metadata": {
        "colab": {
          "base_uri": "https://localhost:8080/"
        },
        "id": "DfRNjTOwjRZr",
        "outputId": "f7997581-b603-4f1b-d871-977e6decedfe"
      },
      "outputs": [
        {
          "output_type": "execute_result",
          "data": {
            "text/plain": [
              "array([['go', 'geh'],\n",
              "       ['hi', 'hallo'],\n",
              "       ['hi', 'grüß gott'],\n",
              "       ...,\n",
              "       ['it may be impossible to get a completely errorfree corpus due to the nature of this kind of collaborative effort however if we encourage members to contribute sentences in their own languages rather than experiment in languages they are learning we might be able to minimize errors',\n",
              "        'es ist wohl unmöglich einen vollkommen fehlerfreien korpus zu erreichen\\xa0— das liegt in der natur eines solchen gemeinschaftsprojekts doch wenn wir unsere mitglieder dazu bringen können nicht mit sprachen herumzuexperimentieren die sie gerade lernen sondern sätze in ihrer eigenen muttersprache beizutragen dann gelingt es uns vielleicht die zahl der fehler klein zu halten'],\n",
              "       ['i know that adding sentences only in your native or strongest language is probably not as much fun as practicing writing foreign languages but please dont add sentences to the tatoeba corpus if you are not absolutely sure they are correct if you want to practice languages that you are studying please do so by using a website designed for that purpose such as wwwlang8com',\n",
              "        'ich weiß wohl dass das ausschließliche beitragen von sätzen in der muttersprache\\xa0– oder der am besten beherrschten sprache\\xa0– nicht ganz so viel spaß macht wie sich im schreiben von fremdsprachen zu üben steuere beim tatoebakorpus aber bitte trotzdem keine sätze bei über deren korrektheit du dir nicht völlig im klaren bist wenn du sprachen die du gerade lernst üben möchtest verwende dazu bitte netzangebote die eigens hierfür eingerichtet wurden wie zum beispiel wwwlang8com'],\n",
              "       ['doubtless there exists in this world precisely the right woman for any given man to marry and vice versa but when you consider that a human being has the opportunity of being acquainted with only a few hundred people and out of the few hundred that there are but a dozen or less whom he knows intimately and out of the dozen one or two friends at most it will easily be seen when we remember the number of millions who inhabit this world that probably since the earth was created the right man has never yet met the right woman',\n",
              "        'ohne zweifel findet sich auf dieser welt zu jedem mann genau die richtige ehefrau und umgekehrt wenn man jedoch in betracht zieht dass ein mensch nur gelegenheit hat mit ein paar hundert anderen bekannt zu sein von denen ihm nur ein dutzend oder weniger nahesteht darunter höchstens ein oder zwei freunde dann erahnt man eingedenk der millionen einwohner dieser welt\\xa0leicht dass seit erschaffung ebenderselben wohl noch nie der richtige mann der richtigen frau begegnet ist']],\n",
              "      dtype='<U527')"
            ]
          },
          "metadata": {},
          "execution_count": 13
        }
      ],
      "source": [
        "deu_eng"
      ]
    },
    {
      "cell_type": "code",
      "execution_count": 14,
      "metadata": {
        "scrolled": true,
        "id": "lvUHC0ZOjRZs"
      },
      "outputs": [],
      "source": [
        "# convert to lowercase\n",
        "for i in range(len(deu_eng)):\n",
        "    deu_eng[i,0] = deu_eng[i,0].lower()\n",
        "\n",
        "    deu_eng[i,1] = deu_eng[i,1].lower()"
      ]
    },
    {
      "cell_type": "code",
      "execution_count": 15,
      "metadata": {
        "colab": {
          "base_uri": "https://localhost:8080/"
        },
        "id": "ByvIpJUSjRZs",
        "outputId": "87e08641-e746-457e-8f3e-e57e73407f5b"
      },
      "outputs": [
        {
          "output_type": "execute_result",
          "data": {
            "text/plain": [
              "array([['go', 'geh'],\n",
              "       ['hi', 'hallo'],\n",
              "       ['hi', 'grüß gott'],\n",
              "       ...,\n",
              "       ['it may be impossible to get a completely errorfree corpus due to the nature of this kind of collaborative effort however if we encourage members to contribute sentences in their own languages rather than experiment in languages they are learning we might be able to minimize errors',\n",
              "        'es ist wohl unmöglich einen vollkommen fehlerfreien korpus zu erreichen\\xa0— das liegt in der natur eines solchen gemeinschaftsprojekts doch wenn wir unsere mitglieder dazu bringen können nicht mit sprachen herumzuexperimentieren die sie gerade lernen sondern sätze in ihrer eigenen muttersprache beizutragen dann gelingt es uns vielleicht die zahl der fehler klein zu halten'],\n",
              "       ['i know that adding sentences only in your native or strongest language is probably not as much fun as practicing writing foreign languages but please dont add sentences to the tatoeba corpus if you are not absolutely sure they are correct if you want to practice languages that you are studying please do so by using a website designed for that purpose such as wwwlang8com',\n",
              "        'ich weiß wohl dass das ausschließliche beitragen von sätzen in der muttersprache\\xa0– oder der am besten beherrschten sprache\\xa0– nicht ganz so viel spaß macht wie sich im schreiben von fremdsprachen zu üben steuere beim tatoebakorpus aber bitte trotzdem keine sätze bei über deren korrektheit du dir nicht völlig im klaren bist wenn du sprachen die du gerade lernst üben möchtest verwende dazu bitte netzangebote die eigens hierfür eingerichtet wurden wie zum beispiel wwwlang8com'],\n",
              "       ['doubtless there exists in this world precisely the right woman for any given man to marry and vice versa but when you consider that a human being has the opportunity of being acquainted with only a few hundred people and out of the few hundred that there are but a dozen or less whom he knows intimately and out of the dozen one or two friends at most it will easily be seen when we remember the number of millions who inhabit this world that probably since the earth was created the right man has never yet met the right woman',\n",
              "        'ohne zweifel findet sich auf dieser welt zu jedem mann genau die richtige ehefrau und umgekehrt wenn man jedoch in betracht zieht dass ein mensch nur gelegenheit hat mit ein paar hundert anderen bekannt zu sein von denen ihm nur ein dutzend oder weniger nahesteht darunter höchstens ein oder zwei freunde dann erahnt man eingedenk der millionen einwohner dieser welt\\xa0leicht dass seit erschaffung ebenderselben wohl noch nie der richtige mann der richtigen frau begegnet ist']],\n",
              "      dtype='<U527')"
            ]
          },
          "metadata": {},
          "execution_count": 15
        }
      ],
      "source": [
        "deu_eng"
      ]
    },
    {
      "cell_type": "markdown",
      "metadata": {
        "id": "utq-JIKZjRZs"
      },
      "source": [
        "#### Text to Sequence Conversion\n",
        "\n",
        "To feed our data in a Seq2Seq model, we will have to convert both the input and the output sentences into integer sequences of fixed length. Before that, let's visualise the length of the sentences. We will capture the lengths of all the sentences in two separate lists for English and German, respectively."
      ]
    },
    {
      "cell_type": "code",
      "execution_count": 16,
      "metadata": {
        "id": "EgGZpERVjRZt"
      },
      "outputs": [],
      "source": [
        "# empty lists\n",
        "eng_l = []\n",
        "deu_l = []\n",
        "\n",
        "# populate the lists with sentence lengths\n",
        "for i in deu_eng[:,0]:\n",
        "    eng_l.append(len(i.split()))\n",
        "\n",
        "for i in deu_eng[:,1]:\n",
        "    deu_l.append(len(i.split()))"
      ]
    },
    {
      "cell_type": "code",
      "execution_count": 17,
      "metadata": {
        "id": "1DHoRIKyjRZt"
      },
      "outputs": [],
      "source": [
        "length_df = pd.DataFrame({'eng':eng_l, 'deu':deu_l})"
      ]
    },
    {
      "cell_type": "code",
      "execution_count": 18,
      "metadata": {
        "colab": {
          "base_uri": "https://localhost:8080/",
          "height": 452
        },
        "id": "O13GLnYejRZt",
        "outputId": "9b071c68-e841-4a5c-c7c3-1e5155f04081"
      },
      "outputs": [
        {
          "output_type": "display_data",
          "data": {
            "text/plain": [
              "<Figure size 640x480 with 2 Axes>"
            ],
            "image/png": "[encoded data removed]"
          },
          "metadata": {}
        }
      ],
      "source": [
        "length_df.hist(bins = 30)\n",
        "plt.show()"
      ]
    },
    {
      "cell_type": "code",
      "execution_count": 19,
      "metadata": {
        "id": "jE-hLZXBjRZu"
      },
      "outputs": [],
      "source": [
        "# function to build a tokenizer\n",
        "def tokenization(lines):\n",
        "    tokenizer = Tokenizer()\n",
        "    tokenizer.fit_on_texts(lines)\n",
        "    return tokenizer"
      ]
    },
    {
      "cell_type": "code",
      "execution_count": 20,
      "metadata": {
        "colab": {
          "base_uri": "https://localhost:8080/"
        },
        "id": "NzL5GWmvjRZu",
        "outputId": "4a983d52-239f-421f-9afd-4522f41c3d51"
      },
      "outputs": [
        {
          "output_type": "stream",
          "name": "stdout",
          "text": [
            "English Vocabulary Size: 18145\n"
          ]
        }
      ],
      "source": [
        "# prepare english tokenizer\n",
        "eng_tokenizer = tokenization(deu_eng[:, 0])\n",
        "eng_vocab_size = len(eng_tokenizer.word_index) + 1\n",
        "\n",
        "eng_length = 25\n",
        "print('English Vocabulary Size: %d' % eng_vocab_size)"
      ]
    },
    {
      "cell_type": "code",
      "execution_count": 21,
      "metadata": {
        "colab": {
          "base_uri": "https://localhost:8080/"
        },
        "id": "4E7J-cf5jRZu",
        "outputId": "0ec084ea-a2d9-4f12-8254-046ad1aa3391"
      },
      "outputs": [
        {
          "output_type": "stream",
          "name": "stdout",
          "text": [
            "Deutch Vocabulary Size: 40258\n"
          ]
        }
      ],
      "source": [
        "# prepare Deutch tokenizer\n",
        "deu_tokenizer = tokenization(deu_eng[:, 1])\n",
        "deu_vocab_size = len(deu_tokenizer.word_index) + 1\n",
        "\n",
        "deu_length = 25\n",
        "print('Deutch Vocabulary Size: %d' % deu_vocab_size)"
      ]
    },
    {
      "cell_type": "markdown",
      "metadata": {
        "id": "YqOQ9nVbjRZv"
      },
      "source": [
        "Given below is a function to prepare the sequences. It will also perform sequence padding to a maximum sentence length as mentioned above."
      ]
    },
    {
      "cell_type": "code",
      "execution_count": 22,
      "metadata": {
        "id": "t33JhjSYjRZv"
      },
      "outputs": [],
      "source": [
        "# encode and pad sequences\n",
        "def encode_sequences(tokenizer, length, lines):\n",
        "    # integer encode sequences\n",
        "    seq = tokenizer.texts_to_sequences(lines)\n",
        "    # pad sequences with 0 values\n",
        "    seq = pad_sequences(seq, maxlen=length, padding='post')\n",
        "    return seq"
      ]
    },
    {
      "cell_type": "markdown",
      "metadata": {
        "id": "i13To5xojRZv"
      },
      "source": [
        "### Model Building"
      ]
    },
    {
      "cell_type": "markdown",
      "metadata": {
        "id": "gNgtbi_djRZv"
      },
      "source": [
        "We will now split the data into train and test set for model training and evaluation, respectively."
      ]
    },
    {
      "cell_type": "code",
      "execution_count": 23,
      "metadata": {
        "id": "41TkIfGRjRZv"
      },
      "outputs": [],
      "source": [
        "from sklearn.model_selection import train_test_split\n",
        "train, test = train_test_split(deu_eng, test_size=0.2, random_state = 12)"
      ]
    },
    {
      "cell_type": "markdown",
      "metadata": {
        "id": "_dKQ4CrUjRZw"
      },
      "source": [
        "It's time to encode the sentences. We will encode German sentences as the input sequences and English sentences as the target sequences. It will be done for both train and test datasets."
      ]
    },
    {
      "cell_type": "code",
      "execution_count": 24,
      "metadata": {
        "id": "b3_D2DvVjRZw"
      },
      "outputs": [],
      "source": [
        "# prepare training data\n",
        "trainX = encode_sequences(deu_tokenizer, deu_length, train[:, 1])\n",
        "trainY = encode_sequences(eng_tokenizer, eng_length, train[:, 0])"
      ]
    },
    {
      "cell_type": "code",
      "execution_count": 25,
      "metadata": {
        "id": "PsM7WkjljRZw"
      },
      "outputs": [],
      "source": [
        "# prepare validation data\n",
        "testX = encode_sequences(deu_tokenizer, deu_length, test[:, 1])\n",
        "testY = encode_sequences(eng_tokenizer, eng_length, test[:, 0])"
      ]
    },
    {
      "cell_type": "code",
      "execution_count": 26,
      "metadata": {
        "id": "M_ixgWeLjRZw"
      },
      "outputs": [],
      "source": [
        "# build model\n",
        "def build_model(in_vocab, out_vocab, in_timesteps, out_timesteps, units):\n",
        "    model = Sequential()\n",
        "    model.add(Embedding(in_vocab, units, input_length=in_timesteps, mask_zero=True))\n",
        "    model.add(LSTM(units))\n",
        "    model.add(RepeatVector(out_timesteps))\n",
        "    model.add(LSTM(units, return_sequences=True))\n",
        "    model.add(Dense(out_vocab, activation='softmax'))\n",
        "    return model"
      ]
    },
    {
      "cell_type": "code",
      "execution_count": 28,
      "metadata": {
        "id": "R9r-ZHc9jRZ1"
      },
      "outputs": [],
      "source": [
        "model = build_model(deu_vocab_size, eng_vocab_size, deu_length, eng_length, 512)\n",
        "rms = optimizers.RMSprop(learning_rate=0.001)\n",
        "model.compile(optimizer=rms, loss='sparse_categorical_crossentropy')"
      ]
    },
    {
      "cell_type": "code",
      "execution_count": 29,
      "metadata": {
        "scrolled": true,
        "colab": {
          "base_uri": "https://localhost:8080/"
        },
        "id": "PKjGQK1HjRZ1",
        "outputId": "b0aac53a-4345-411f-97bd-20350dbb4056"
      },
      "outputs": [
        {
          "output_type": "stream",
          "name": "stdout",
          "text": [
            "Epoch 1/50\n",
            "348/348 [==============================] - 135s 369ms/step - loss: 1.9521 - val_loss: 1.6749\n",
            "Epoch 2/50\n",
            "348/348 [==============================] - 128s 367ms/step - loss: 1.6266 - val_loss: 1.6085\n",
            "Epoch 3/50\n",
            "348/348 [==============================] - 128s 366ms/step - loss: 1.6027 - val_loss: 1.6555\n",
            "Epoch 4/50\n",
            "348/348 [==============================] - 128s 367ms/step - loss: 1.5907 - val_loss: 1.5898\n",
            "Epoch 5/50\n",
            "348/348 [==============================] - 137s 394ms/step - loss: 1.5824 - val_loss: 1.6005\n",
            "Epoch 6/50\n",
            "348/348 [==============================] - 128s 369ms/step - loss: 1.5767 - val_loss: 1.5844\n",
            "Epoch 7/50\n",
            "348/348 [==============================] - 128s 368ms/step - loss: 1.5717 - val_loss: 1.5847\n",
            "Epoch 8/50\n",
            "348/348 [==============================] - 128s 367ms/step - loss: 1.5679 - val_loss: 1.5924\n",
            "Epoch 9/50\n",
            "348/348 [==============================] - 137s 394ms/step - loss: 1.5565 - val_loss: 1.5531\n",
            "Epoch 10/50\n",
            "348/348 [==============================] - 129s 369ms/step - loss: 1.5321 - val_loss: 1.5372\n",
            "Epoch 11/50\n",
            "348/348 [==============================] - 128s 367ms/step - loss: 1.5111 - val_loss: 1.5332\n",
            "Epoch 12/50\n",
            "348/348 [==============================] - 137s 394ms/step - loss: 1.4943 - val_loss: 1.5006\n",
            "Epoch 13/50\n",
            "348/348 [==============================] - 128s 369ms/step - loss: 1.4774 - val_loss: 1.4914\n",
            "Epoch 14/50\n",
            "348/348 [==============================] - 128s 369ms/step - loss: 1.4608 - val_loss: 1.4604\n",
            "Epoch 15/50\n",
            "348/348 [==============================] - 128s 368ms/step - loss: 1.4425 - val_loss: 1.4476\n",
            "Epoch 16/50\n",
            "348/348 [==============================] - 128s 367ms/step - loss: 1.4221 - val_loss: 1.4241\n",
            "Epoch 17/50\n",
            "348/348 [==============================] - 128s 369ms/step - loss: 1.4022 - val_loss: 1.4041\n",
            "Epoch 18/50\n",
            "348/348 [==============================] - 138s 396ms/step - loss: 1.3823 - val_loss: 1.4043\n",
            "Epoch 19/50\n",
            "348/348 [==============================] - 129s 371ms/step - loss: 1.3628 - val_loss: 1.3777\n",
            "Epoch 20/50\n",
            "348/348 [==============================] - 129s 370ms/step - loss: 1.3435 - val_loss: 1.3519\n",
            "Epoch 21/50\n",
            "348/348 [==============================] - 128s 369ms/step - loss: 1.3244 - val_loss: 1.3388\n",
            "Epoch 22/50\n",
            "348/348 [==============================] - 129s 369ms/step - loss: 1.3057 - val_loss: 1.3172\n",
            "Epoch 23/50\n",
            "348/348 [==============================] - 128s 368ms/step - loss: 1.2866 - val_loss: 1.2997\n",
            "Epoch 24/50\n",
            "348/348 [==============================] - 129s 369ms/step - loss: 1.2669 - val_loss: 1.2786\n",
            "Epoch 25/50\n",
            "348/348 [==============================] - 129s 370ms/step - loss: 1.2463 - val_loss: 1.2553\n",
            "Epoch 26/50\n",
            "348/348 [==============================] - 129s 370ms/step - loss: 1.2262 - val_loss: 1.2386\n",
            "Epoch 27/50\n",
            "348/348 [==============================] - 138s 396ms/step - loss: 1.2061 - val_loss: 1.2173\n",
            "Epoch 28/50\n",
            "348/348 [==============================] - 129s 371ms/step - loss: 1.1857 - val_loss: 1.2077\n",
            "Epoch 29/50\n",
            "348/348 [==============================] - 128s 369ms/step - loss: 1.1668 - val_loss: 1.1776\n",
            "Epoch 30/50\n",
            "348/348 [==============================] - 138s 395ms/step - loss: 1.1479 - val_loss: 1.1720\n",
            "Epoch 31/50\n",
            "348/348 [==============================] - 129s 371ms/step - loss: 1.1302 - val_loss: 1.1440\n",
            "Epoch 32/50\n",
            "348/348 [==============================] - 128s 369ms/step - loss: 1.1125 - val_loss: 1.1312\n",
            "Epoch 33/50\n",
            "348/348 [==============================] - 137s 394ms/step - loss: 1.0961 - val_loss: 1.1174\n",
            "Epoch 34/50\n",
            "348/348 [==============================] - 129s 370ms/step - loss: 1.0798 - val_loss: 1.1062\n",
            "Epoch 35/50\n",
            "348/348 [==============================] - 128s 368ms/step - loss: 1.0635 - val_loss: 1.0869\n",
            "Epoch 36/50\n",
            "348/348 [==============================] - 129s 370ms/step - loss: 1.0484 - val_loss: 1.0746\n",
            "Epoch 37/50\n",
            "348/348 [==============================] - 128s 369ms/step - loss: 1.0330 - val_loss: 1.0797\n",
            "Epoch 38/50\n",
            "348/348 [==============================] - 128s 368ms/step - loss: 1.0187 - val_loss: 1.0514\n",
            "Epoch 39/50\n",
            "348/348 [==============================] - 138s 397ms/step - loss: 1.0038 - val_loss: 1.0370\n",
            "Epoch 40/50\n",
            "348/348 [==============================] - 129s 371ms/step - loss: 0.9901 - val_loss: 1.0349\n",
            "Epoch 41/50\n",
            "348/348 [==============================] - 129s 370ms/step - loss: 0.9764 - val_loss: 1.0186\n",
            "Epoch 42/50\n",
            "348/348 [==============================] - 137s 395ms/step - loss: 0.9631 - val_loss: 1.0083\n",
            "Epoch 43/50\n",
            "348/348 [==============================] - 129s 371ms/step - loss: 0.9501 - val_loss: 1.0010\n",
            "Epoch 44/50\n",
            "348/348 [==============================] - 128s 368ms/step - loss: 0.9375 - val_loss: 0.9994\n",
            "Epoch 45/50\n",
            "348/348 [==============================] - 128s 368ms/step - loss: 0.9253 - val_loss: 0.9872\n",
            "Epoch 46/50\n",
            "348/348 [==============================] - 128s 369ms/step - loss: 0.9130 - val_loss: 0.9712\n",
            "Epoch 47/50\n",
            "348/348 [==============================] - 128s 369ms/step - loss: 0.9017 - val_loss: 0.9605\n",
            "Epoch 48/50\n",
            "348/348 [==============================] - 129s 370ms/step - loss: 0.8899 - val_loss: 0.9528\n",
            "Epoch 49/50\n",
            "348/348 [==============================] - 128s 368ms/step - loss: 0.8792 - val_loss: 0.9401\n",
            "Epoch 50/50\n",
            "348/348 [==============================] - 129s 370ms/step - loss: 0.8680 - val_loss: 0.9337\n"
          ]
        },
        {
          "output_type": "stream",
          "name": "stderr",
          "text": [
            "/usr/local/lib/python3.10/dist-packages/keras/src/engine/training.py:3103: UserWarning: You are saving your model as an HDF5 file via `model.save()`. This file format is considered legacy. We recommend using instead the native Keras format, e.g. `model.save('my_model.keras')`.\n",
            "  saving_api.save_model(\n"
          ]
        }
      ],
      "source": [
        "history = model.fit(trainX, trainY.reshape(trainY.shape[0], trainY.shape[1], 1),\n",
        "          epochs=50, batch_size=512,\n",
        "          validation_split = 0.2,\n",
        "          verbose=1)\n",
        "\n",
        "model.save('lang_translator.h5')"
      ]
    },
    {
      "cell_type": "markdown",
      "metadata": {
        "id": "uoCbs4TCjRZ1"
      },
      "source": [
        "comparing the training loss and the validation loss."
      ]
    },
    {
      "cell_type": "code",
      "execution_count": 30,
      "metadata": {
        "colab": {
          "base_uri": "https://localhost:8080/",
          "height": 433
        },
        "id": "kpvB4NVNjRZ2",
        "outputId": "6904df67-4523-4415-efac-46e46d5d37e1"
      },
      "outputs": [
        {
          "output_type": "display_data",
          "data": {
            "text/plain": [
              "<Figure size 640x480 with 1 Axes>"
            ],
            "image/png": "[encoded data removed]"
          },
          "metadata": {}
        }
      ],
      "source": [
        "plt.plot(history.history['loss'])\n",
        "plt.plot(history.history['val_loss'])\n",
        "plt.legend(['train','validation'])\n",
        "plt.show()"
      ]
    },
    {
      "cell_type": "markdown",
      "metadata": {
        "id": "MZw_HlsHjRZ2"
      },
      "source": [
        "Predictions"
      ]
    },
    {
      "cell_type": "code",
      "execution_count": null,
      "metadata": {
        "id": "aRIQC-qUjRZ2"
      },
      "outputs": [],
      "source": [
        "model = load_model('/content/lang_translator.h5')\n",
        "preds_prob = model.predict(testX.reshape((testX.shape[0], testX.shape[1])), batch_size=16)\n",
        "\n",
        "preds = preds_prob.argmax(axis=-1)"
      ]
    },
    {
      "cell_type": "code",
      "execution_count": null,
      "metadata": {
        "id": "UYHKFnqrjRZ2"
      },
      "outputs": [],
      "source": [
        "def get_word(n, tokenizer):\n",
        "    for word, index in tokenizer.word_index.items():\n",
        "        if index == n:\n",
        "            return word\n",
        "    return None"
      ]
    },
    {
      "cell_type": "code",
      "execution_count": null,
      "metadata": {
        "id": "7HFlRjkJjRZ3"
      },
      "outputs": [],
      "source": [
        "# convert predictions into text (English)\n",
        "preds_text = []\n",
        "for i in preds:\n",
        "    temp = []\n",
        "    for j in range(len(i)):\n",
        "        t = get_word(i[j], eng_tokenizer)\n",
        "        if j > 0:\n",
        "            if (t == get_word(i[j-1], eng_tokenizer)) or (t == None):\n",
        "                temp.append('')\n",
        "            else:\n",
        "                temp.append(t)\n",
        "\n",
        "        else:\n",
        "            if(t == None):\n",
        "                temp.append('')\n",
        "            else:\n",
        "                temp.append(t)\n",
        "\n",
        "    preds_text.append(' '.join(temp))"
      ]
    },
    {
      "cell_type": "code",
      "execution_count": null,
      "metadata": {
        "id": "9GFB9WObjRZ3"
      },
      "outputs": [],
      "source": [
        "pred_df = pd.DataFrame({'actual' : test[:,0], 'predicted' : preds_text})"
      ]
    },
    {
      "cell_type": "code",
      "execution_count": null,
      "metadata": {
        "id": "UYgqETCUjRZ3"
      },
      "outputs": [],
      "source": [
        "pd.set_option('display.max_colwidth', 200)"
      ]
    },
    {
      "cell_type": "code",
      "execution_count": null,
      "metadata": {
        "id": "4smgy4STjRZ3",
        "outputId": "de631fda-29e9-4295-b1e2-626f43fd968c"
      },
      "outputs": [
        {
          "data": {
            "text/html": [
              "<div>\n",
              "<style scoped>\n",
              "    .dataframe tbody tr th:only-of-type {\n",
              "        vertical-align: middle;\n",
              "    }\n",
              "\n",
              "    .dataframe tbody tr th {\n",
              "        vertical-align: top;\n",
              "    }\n",
              "\n",
              "    .dataframe thead th {\n",
              "        text-align: right;\n",
              "    }\n",
              "</style>\n",
              "<table border=\"1\" class=\"dataframe\">\n",
              "  <thead>\n",
              "    <tr style=\"text-align: right;\">\n",
              "      <th></th>\n",
              "      <th>actual</th>\n",
              "      <th>predicted</th>\n",
              "    </tr>\n",
              "  </thead>\n",
              "  <tbody>\n",
              "    <tr>\n",
              "      <th>0</th>\n",
              "      <td>weve run out of gas</td>\n",
              "      <td>we have out  of gas</td>\n",
              "    </tr>\n",
              "    <tr>\n",
              "      <th>1</th>\n",
              "      <td>its a fad</td>\n",
              "      <td>this is a</td>\n",
              "    </tr>\n",
              "    <tr>\n",
              "      <th>2</th>\n",
              "      <td>tom was shaken</td>\n",
              "      <td>tom was distressed</td>\n",
              "    </tr>\n",
              "    <tr>\n",
              "      <th>3</th>\n",
              "      <td>this annoys me</td>\n",
              "      <td>this me</td>\n",
              "    </tr>\n",
              "    <tr>\n",
              "      <th>4</th>\n",
              "      <td>let me do that for you</td>\n",
              "      <td>let me do   you</td>\n",
              "    </tr>\n",
              "    <tr>\n",
              "      <th>5</th>\n",
              "      <td>you will pay for this</td>\n",
              "      <td>youll pay for this</td>\n",
              "    </tr>\n",
              "    <tr>\n",
              "      <th>6</th>\n",
              "      <td>tom often cuts classes</td>\n",
              "      <td>tom often to</td>\n",
              "    </tr>\n",
              "    <tr>\n",
              "      <th>7</th>\n",
              "      <td>hes young and healthy</td>\n",
              "      <td>he is young angry</td>\n",
              "    </tr>\n",
              "    <tr>\n",
              "      <th>8</th>\n",
              "      <td>life is enjoyable</td>\n",
              "      <td>life is beautiful</td>\n",
              "    </tr>\n",
              "    <tr>\n",
              "      <th>9</th>\n",
              "      <td>i know it sounds silly</td>\n",
              "      <td>i know it</td>\n",
              "    </tr>\n",
              "    <tr>\n",
              "      <th>10</th>\n",
              "      <td>i raise cattle</td>\n",
              "      <td>im going to</td>\n",
              "    </tr>\n",
              "    <tr>\n",
              "      <th>11</th>\n",
              "      <td>dont worry</td>\n",
              "      <td>dont be worried</td>\n",
              "    </tr>\n",
              "    <tr>\n",
              "      <th>12</th>\n",
              "      <td>close the door</td>\n",
              "      <td>shut the door</td>\n",
              "    </tr>\n",
              "    <tr>\n",
              "      <th>13</th>\n",
              "      <td>youre joking</td>\n",
              "      <td>youre kidding</td>\n",
              "    </tr>\n",
              "    <tr>\n",
              "      <th>14</th>\n",
              "      <td>tom seemed lucky</td>\n",
              "      <td>tom seemed happy</td>\n",
              "    </tr>\n",
              "  </tbody>\n",
              "</table>\n",
              "</div>"
            ],
            "text/plain": [
              "                    actual                predicted\n",
              "0      weve run out of gas    we have out  of gas  \n",
              "1                its a fad           this is a     \n",
              "2           tom was shaken  tom was distressed     \n",
              "3           this annoys me            this me      \n",
              "4   let me do that for you        let me do   you  \n",
              "5    you will pay for this   youll pay for this    \n",
              "6   tom often cuts classes        tom often to     \n",
              "7    hes young and healthy    he is young angry    \n",
              "8        life is enjoyable   life is beautiful     \n",
              "9   i know it sounds silly           i know it     \n",
              "10          i raise cattle         im going to     \n",
              "11              dont worry     dont be worried     \n",
              "12          close the door       shut the door     \n",
              "13            youre joking      youre kidding      \n",
              "14        tom seemed lucky    tom seemed happy     "
            ]
          },
          "execution_count": 34,
          "metadata": {},
          "output_type": "execute_result"
        }
      ],
      "source": [
        "pred_df.head(15)"
      ]
    },
    {
      "cell_type": "code",
      "execution_count": null,
      "metadata": {
        "id": "st1VqKS5jRZ3",
        "outputId": "f303348d-3681-4e3b-dece-2cc7eb62ad9e"
      },
      "outputs": [
        {
          "data": {
            "text/html": [
              "<div>\n",
              "<style scoped>\n",
              "    .dataframe tbody tr th:only-of-type {\n",
              "        vertical-align: middle;\n",
              "    }\n",
              "\n",
              "    .dataframe tbody tr th {\n",
              "        vertical-align: top;\n",
              "    }\n",
              "\n",
              "    .dataframe thead th {\n",
              "        text-align: right;\n",
              "    }\n",
              "</style>\n",
              "<table border=\"1\" class=\"dataframe\">\n",
              "  <thead>\n",
              "    <tr style=\"text-align: right;\">\n",
              "      <th></th>\n",
              "      <th>actual</th>\n",
              "      <th>predicted</th>\n",
              "    </tr>\n",
              "  </thead>\n",
              "  <tbody>\n",
              "    <tr>\n",
              "      <th>9985</th>\n",
              "      <td>tom knew the risks</td>\n",
              "      <td>tom was all of</td>\n",
              "    </tr>\n",
              "    <tr>\n",
              "      <th>9986</th>\n",
              "      <td>what does she do</td>\n",
              "      <td>what does you do</td>\n",
              "    </tr>\n",
              "    <tr>\n",
              "      <th>9987</th>\n",
              "      <td>she still loved him</td>\n",
              "      <td>she still him sing</td>\n",
              "    </tr>\n",
              "    <tr>\n",
              "      <th>9988</th>\n",
              "      <td>i want to be careful</td>\n",
              "      <td>i want to be boston</td>\n",
              "    </tr>\n",
              "    <tr>\n",
              "      <th>9989</th>\n",
              "      <td>im here arent i</td>\n",
              "      <td>im here</td>\n",
              "    </tr>\n",
              "    <tr>\n",
              "      <th>9990</th>\n",
              "      <td>youre a hypocrite</td>\n",
              "      <td>youre a hypocrite</td>\n",
              "    </tr>\n",
              "    <tr>\n",
              "      <th>9991</th>\n",
              "      <td>i gave you a book</td>\n",
              "      <td>i gave you a book</td>\n",
              "    </tr>\n",
              "    <tr>\n",
              "      <th>9992</th>\n",
              "      <td>lets do it</td>\n",
              "      <td>do  it</td>\n",
              "    </tr>\n",
              "    <tr>\n",
              "      <th>9993</th>\n",
              "      <td>i broke my leg skiing</td>\n",
              "      <td>i broke my</td>\n",
              "    </tr>\n",
              "    <tr>\n",
              "      <th>9994</th>\n",
              "      <td>i was victorious</td>\n",
              "      <td>i was been asleep</td>\n",
              "    </tr>\n",
              "    <tr>\n",
              "      <th>9995</th>\n",
              "      <td>what a pretty woman</td>\n",
              "      <td>what a wife</td>\n",
              "    </tr>\n",
              "    <tr>\n",
              "      <th>9996</th>\n",
              "      <td>well come with you</td>\n",
              "      <td>were come with you</td>\n",
              "    </tr>\n",
              "    <tr>\n",
              "      <th>9997</th>\n",
              "      <td>i am the same age</td>\n",
              "      <td>im am the same age</td>\n",
              "    </tr>\n",
              "    <tr>\n",
              "      <th>9998</th>\n",
              "      <td>who should we believe</td>\n",
              "      <td>who do we going</td>\n",
              "    </tr>\n",
              "    <tr>\n",
              "      <th>9999</th>\n",
              "      <td>whats it good for</td>\n",
              "      <td>whats she good for</td>\n",
              "    </tr>\n",
              "  </tbody>\n",
              "</table>\n",
              "</div>"
            ],
            "text/plain": [
              "                     actual               predicted\n",
              "9985     tom knew the risks      tom was all of    \n",
              "9986       what does she do    what does you do    \n",
              "9987    she still loved him  she still him sing    \n",
              "9988   i want to be careful  i want to be boston   \n",
              "9989        im here arent i           im here      \n",
              "9990      youre a hypocrite  youre a hypocrite     \n",
              "9991      i gave you a book    i gave you a book   \n",
              "9992             lets do it             do  it     \n",
              "9993  i broke my leg skiing         i broke my     \n",
              "9994       i was victorious   i was been asleep    \n",
              "9995    what a pretty woman        what a wife     \n",
              "9996     well come with you  were come with you    \n",
              "9997      i am the same age   im am the same age   \n",
              "9998  who should we believe     who do we going    \n",
              "9999      whats it good for  whats she good for    "
            ]
          },
          "execution_count": 35,
          "metadata": {},
          "output_type": "execute_result"
        }
      ],
      "source": [
        "pred_df.tail(15)"
      ]
    },
    {
      "cell_type": "code",
      "execution_count": null,
      "metadata": {
        "id": "HnWLdlhvjRZ4",
        "outputId": "2420ad5f-e5aa-480e-a854-86c8890b216f"
      },
      "outputs": [
        {
          "data": {
            "text/html": [
              "<div>\n",
              "<style scoped>\n",
              "    .dataframe tbody tr th:only-of-type {\n",
              "        vertical-align: middle;\n",
              "    }\n",
              "\n",
              "    .dataframe tbody tr th {\n",
              "        vertical-align: top;\n",
              "    }\n",
              "\n",
              "    .dataframe thead th {\n",
              "        text-align: right;\n",
              "    }\n",
              "</style>\n",
              "<table border=\"1\" class=\"dataframe\">\n",
              "  <thead>\n",
              "    <tr style=\"text-align: right;\">\n",
              "      <th></th>\n",
              "      <th>actual</th>\n",
              "      <th>predicted</th>\n",
              "    </tr>\n",
              "  </thead>\n",
              "  <tbody>\n",
              "    <tr>\n",
              "      <th>9985</th>\n",
              "      <td>tom knew the risks</td>\n",
              "      <td>tom was all of</td>\n",
              "    </tr>\n",
              "    <tr>\n",
              "      <th>9986</th>\n",
              "      <td>what does she do</td>\n",
              "      <td>what does you do</td>\n",
              "    </tr>\n",
              "    <tr>\n",
              "      <th>9987</th>\n",
              "      <td>she still loved him</td>\n",
              "      <td>she still him sing</td>\n",
              "    </tr>\n",
              "    <tr>\n",
              "      <th>9988</th>\n",
              "      <td>i want to be careful</td>\n",
              "      <td>i want to be boston</td>\n",
              "    </tr>\n",
              "    <tr>\n",
              "      <th>9989</th>\n",
              "      <td>im here arent i</td>\n",
              "      <td>im here</td>\n",
              "    </tr>\n",
              "    <tr>\n",
              "      <th>9990</th>\n",
              "      <td>youre a hypocrite</td>\n",
              "      <td>youre a hypocrite</td>\n",
              "    </tr>\n",
              "    <tr>\n",
              "      <th>9991</th>\n",
              "      <td>i gave you a book</td>\n",
              "      <td>i gave you a book</td>\n",
              "    </tr>\n",
              "    <tr>\n",
              "      <th>9992</th>\n",
              "      <td>lets do it</td>\n",
              "      <td>do  it</td>\n",
              "    </tr>\n",
              "    <tr>\n",
              "      <th>9993</th>\n",
              "      <td>i broke my leg skiing</td>\n",
              "      <td>i broke my</td>\n",
              "    </tr>\n",
              "    <tr>\n",
              "      <th>9994</th>\n",
              "      <td>i was victorious</td>\n",
              "      <td>i was been asleep</td>\n",
              "    </tr>\n",
              "    <tr>\n",
              "      <th>9995</th>\n",
              "      <td>what a pretty woman</td>\n",
              "      <td>what a wife</td>\n",
              "    </tr>\n",
              "    <tr>\n",
              "      <th>9996</th>\n",
              "      <td>well come with you</td>\n",
              "      <td>were come with you</td>\n",
              "    </tr>\n",
              "    <tr>\n",
              "      <th>9997</th>\n",
              "      <td>i am the same age</td>\n",
              "      <td>im am the same age</td>\n",
              "    </tr>\n",
              "    <tr>\n",
              "      <th>9998</th>\n",
              "      <td>who should we believe</td>\n",
              "      <td>who do we going</td>\n",
              "    </tr>\n",
              "    <tr>\n",
              "      <th>9999</th>\n",
              "      <td>whats it good for</td>\n",
              "      <td>whats she good for</td>\n",
              "    </tr>\n",
              "  </tbody>\n",
              "</table>\n",
              "</div>"
            ],
            "text/plain": [
              "                     actual               predicted\n",
              "9985     tom knew the risks      tom was all of    \n",
              "9986       what does she do    what does you do    \n",
              "9987    she still loved him  she still him sing    \n",
              "9988   i want to be careful  i want to be boston   \n",
              "9989        im here arent i           im here      \n",
              "9990      youre a hypocrite  youre a hypocrite     \n",
              "9991      i gave you a book    i gave you a book   \n",
              "9992             lets do it             do  it     \n",
              "9993  i broke my leg skiing         i broke my     \n",
              "9994       i was victorious   i was been asleep    \n",
              "9995    what a pretty woman        what a wife     \n",
              "9996     well come with you  were come with you    \n",
              "9997      i am the same age   im am the same age   \n",
              "9998  who should we believe     who do we going    \n",
              "9999      whats it good for  whats she good for    "
            ]
          },
          "execution_count": 37,
          "metadata": {},
          "output_type": "execute_result"
        }
      ],
      "source": [
        "pred_df.tail(15)"
      ]
    },
    {
      "cell_type": "code",
      "execution_count": null,
      "metadata": {
        "id": "2iwdb5V9jRZ4",
        "outputId": "a297fb09-2a80-4155-ea65-fbc8ceb61674"
      },
      "outputs": [
        {
          "data": {
            "text/html": [
              "<div>\n",
              "<style scoped>\n",
              "    .dataframe tbody tr th:only-of-type {\n",
              "        vertical-align: middle;\n",
              "    }\n",
              "\n",
              "    .dataframe tbody tr th {\n",
              "        vertical-align: top;\n",
              "    }\n",
              "\n",
              "    .dataframe thead th {\n",
              "        text-align: right;\n",
              "    }\n",
              "</style>\n",
              "<table border=\"1\" class=\"dataframe\">\n",
              "  <thead>\n",
              "    <tr style=\"text-align: right;\">\n",
              "      <th></th>\n",
              "      <th>actual</th>\n",
              "      <th>predicted</th>\n",
              "    </tr>\n",
              "  </thead>\n",
              "  <tbody>\n",
              "    <tr>\n",
              "      <th>4719</th>\n",
              "      <td>id like to know why</td>\n",
              "      <td>id like to know why</td>\n",
              "    </tr>\n",
              "    <tr>\n",
              "      <th>6533</th>\n",
              "      <td>i dont need a car</td>\n",
              "      <td>i dont need a car</td>\n",
              "    </tr>\n",
              "    <tr>\n",
              "      <th>8505</th>\n",
              "      <td>youve got a fever</td>\n",
              "      <td>you have a fever</td>\n",
              "    </tr>\n",
              "    <tr>\n",
              "      <th>6081</th>\n",
              "      <td>dont come again</td>\n",
              "      <td>dont come again</td>\n",
              "    </tr>\n",
              "    <tr>\n",
              "      <th>5615</th>\n",
              "      <td>im tired of boston</td>\n",
              "      <td>im am boston</td>\n",
              "    </tr>\n",
              "    <tr>\n",
              "      <th>868</th>\n",
              "      <td>i mean no disrespect</td>\n",
              "      <td>i dont want to be</td>\n",
              "    </tr>\n",
              "    <tr>\n",
              "      <th>1415</th>\n",
              "      <td>take a number</td>\n",
              "      <td>take a number</td>\n",
              "    </tr>\n",
              "    <tr>\n",
              "      <th>3561</th>\n",
              "      <td>what does it say</td>\n",
              "      <td>what does it</td>\n",
              "    </tr>\n",
              "    <tr>\n",
              "      <th>1292</th>\n",
              "      <td>shes still young</td>\n",
              "      <td>she is young</td>\n",
              "    </tr>\n",
              "    <tr>\n",
              "      <th>7759</th>\n",
              "      <td>youre out of order</td>\n",
              "      <td>youre not normal</td>\n",
              "    </tr>\n",
              "    <tr>\n",
              "      <th>1285</th>\n",
              "      <td>get lost</td>\n",
              "      <td>get away</td>\n",
              "    </tr>\n",
              "    <tr>\n",
              "      <th>6900</th>\n",
              "      <td>tom wouldnt blame you</td>\n",
              "      <td>tom wouldnt blame you</td>\n",
              "    </tr>\n",
              "    <tr>\n",
              "      <th>4161</th>\n",
              "      <td>youre in love</td>\n",
              "      <td>are  love</td>\n",
              "    </tr>\n",
              "    <tr>\n",
              "      <th>1427</th>\n",
              "      <td>he noticed i was there</td>\n",
              "      <td>he saw ill right</td>\n",
              "    </tr>\n",
              "    <tr>\n",
              "      <th>2987</th>\n",
              "      <td>tom rarely smiled</td>\n",
              "      <td>tom seldom smiled</td>\n",
              "    </tr>\n",
              "  </tbody>\n",
              "</table>\n",
              "</div>"
            ],
            "text/plain": [
              "                      actual                  predicted\n",
              "4719     id like to know why     id like to know why   \n",
              "6533       i dont need a car       i dont need a car   \n",
              "8505       youve got a fever       you have a fever    \n",
              "6081         dont come again       dont come again     \n",
              "5615      im tired of boston          im am boston     \n",
              "868     i mean no disrespect       i dont want to be   \n",
              "1415           take a number         take a number     \n",
              "3561        what does it say          what does it     \n",
              "1292        shes still young          she is young     \n",
              "7759      youre out of order      youre not normal     \n",
              "1285                get lost             get away      \n",
              "6900   tom wouldnt blame you  tom wouldnt blame you    \n",
              "4161           youre in love             are  love     \n",
              "1427  he noticed i was there       he saw ill right    \n",
              "2987       tom rarely smiled     tom seldom smiled     "
            ]
          },
          "execution_count": 40,
          "metadata": {},
          "output_type": "execute_result"
        }
      ],
      "source": [
        "pred_df.sample(15)"
      ]
    }
  ],
  "metadata": {
    "kernelspec": {
      "display_name": "Python 3",
      "name": "python3"
    },
    "language_info": {
      "codemirror_mode": {
        "name": "ipython",
        "version": 3
      },
      "file_extension": ".py",
      "mimetype": "text/x-python",
      "name": "python",
      "nbconvert_exporter": "python",
      "pygments_lexer": "ipython3",
      "version": "3.12.2"
    },
    "colab": {
      "provenance": [],
      "gpuType": "T4",
      "include_colab_link": true
    },
    "accelerator": "GPU"
  },
  "nbformat": 4,
  "nbformat_minor": 0
}